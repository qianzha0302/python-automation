{
 "cells": [
  {
   "metadata": {
    "ExecuteTime": {
     "end_time": "2024-09-27T03:10:03.266884Z",
     "start_time": "2024-09-27T03:10:02.103267Z"
    }
   },
   "cell_type": "code",
   "source": [
    "import pandas as pd\n",
    "\n",
    "# 读取 Excel 文件\n",
    "df = pd.read_excel('/Users/zhaqian/Desktop/DATA SCIENCE/CS老师教课资源/python爬虫/Issue_Management_Database.xlsx',sheet_name='issue management test(2)')  # 确保你的文件路径正确"
   ],
   "id": "c6fc238c7c426585",
   "outputs": [],
   "execution_count": 5
  },
  {
   "metadata": {
    "ExecuteTime": {
     "end_time": "2024-09-27T03:10:04.468497Z",
     "start_time": "2024-09-27T03:10:04.459389Z"
    }
   },
   "cell_type": "code",
   "source": "print(df.head())",
   "id": "2cf992b21c0d1a01",
   "outputs": [
    {
     "name": "stdout",
     "output_type": "stream",
     "text": [
      "   Incident Information - Incident ID  \\\n",
      "0                                3667   \n",
      "1                                3675   \n",
      "2                                3676   \n",
      "\n",
      "  Incident Information - Subject (Incident URL)  \\\n",
      "0                            JSS - 01312024 - 1   \n",
      "1                            JSS - 01312024 - 2   \n",
      "2                            JSS - 01312024 - 3   \n",
      "\n",
      "                                         Issue Title    EVP Sponson  \\\n",
      "0  1. CAMELS: Operational Risk - Internal Control...   Mark DeFazio   \n",
      "1  2. Operational Risk â€“ Internal Controls â€“ ...  Gregory Gaare   \n",
      "2  MBHC 1. Operational Risk - Internal Controls â...     Erjun Chen   \n",
      "\n",
      "             Business Area(s)       Issue Owner Issue Owner's email address  \\\n",
      "0              Internal Audit          Qian Zha      qian.zha32@outlook.com   \n",
      "1  Enterprise Risk Management          Zhenhuan        xzhrobert@gmail.com    \n",
      "2              Internal Audit  \\nJake Nicholson      qian.zha32@outlook.com   \n",
      "\n",
      "  Original Issue Date Issue Source Type  \\\n",
      "0          2024-01-31              MRIA   \n",
      "1          2024-01-31              MRIA   \n",
      "2          2024-01-31              MRIA   \n",
      "\n",
      "                           Summary Issue Description  \\\n",
      "0  Oversight of program managers remains deficien...   \n",
      "1  Management has entered into agreements with Pr...   \n",
      "2  GPG has a significant number of outstanding in...   \n",
      "\n",
      "  Corrective Action Target Date              Issue Status  Days Past Due  \\\n",
      "0                    2024-03-01                      Open            207   \n",
      "1                    2024-03-31  Pending Audit Validation            177   \n",
      "2                    2024-03-31  Pending Audit Validation            177   \n",
      "\n",
      "                                      Status Update1 Target Closure Date  \\\n",
      "0  Regulatory finding is specific to our non-core...          2024-11-15   \n",
      "1  Regulatory finding is specific to our non-core...          2024-09-30   \n",
      "2  Regulatory finding is specific to our non-core...          2024-12-31   \n",
      "\n",
      "   Closed Date  \n",
      "0          NaN  \n",
      "1          NaN  \n",
      "2          NaN  \n"
     ]
    }
   ],
   "execution_count": 6
  },
  {
   "metadata": {
    "ExecuteTime": {
     "end_time": "2024-09-27T03:10:06.443544Z",
     "start_time": "2024-09-27T03:10:06.438769Z"
    }
   },
   "cell_type": "code",
   "source": "from datetime import datetime, timedelta",
   "id": "4bb4bd411152d5b7",
   "outputs": [],
   "execution_count": 7
  },
  {
   "metadata": {
    "ExecuteTime": {
     "end_time": "2024-09-27T03:11:28.547357Z",
     "start_time": "2024-09-27T03:11:28.518462Z"
    }
   },
   "cell_type": "code",
   "source": [
    "import smtplib\n",
    "from email.mime.text import MIMEText\n",
    "from email.mime.multipart import MIMEMultipart\n",
    "\n",
    "# Gmail SMTP 配置\n",
    "SMTP_SERVER = 'smtp.gmail.com'\n",
    "SMTP_PORT = 587\n",
    "SENDER_EMAIL = 'qian.zha32@gmail.com'  # 替换为你的 Gmail 地址\n",
    "SENDER_PASSWORD = 'rpvv lqid txxp oauy'  # Gmail 的应用专用密码\n",
    "\n",
    "# 示例乱码字符映射（可以根据实际情况调整）\n",
    "char_map = {\n",
    "    'â€“': '-',  # 替换破折号\n",
    "    'â€™': \"'\",  # 替换单引号\n",
    "    'â€œ': '\"',  # 替换左双引号\n",
    "    'â€': '\"',   # 替换右双引号\n",
    "    'â€¦': '...',  # 替换省略号\n",
    "    'Ã©': 'é',   # 拉丁字符 'é'\n",
    "    'Ã': 'A',    # 拉丁字符 'A'\n",
    "}\n",
    "\n",
    "# 自动清理乱码字符的函数\n",
    "def clean_text(text):\n",
    "    if isinstance(text, str):  # 只对字符串类型的内容进行处理\n",
    "        for key, value in char_map.items():\n",
    "            text = text.replace(key, value)\n",
    "    return text\n",
    "\n",
    "def send_email(to_email, subject, body):\n",
    "    msg = MIMEMultipart()\n",
    "    msg['From'] = SENDER_EMAIL\n",
    "    msg['To'] = to_email\n",
    "    msg['Subject'] = subject\n",
    "\n",
    "    # 添加邮件正文\n",
    "    msg.attach(MIMEText(body, 'plain'))\n",
    "\n",
    "    # 连接到 Gmail SMTP 服务器并发送邮件\n",
    "    with smtplib.SMTP(SMTP_SERVER, SMTP_PORT) as server:\n",
    "        server.starttls()  # 启用 TLS 加密\n",
    "        server.login(SENDER_EMAIL, SENDER_PASSWORD)  # 使用应用专用密码登录\n",
    "        server.sendmail(SENDER_EMAIL, to_email, msg.as_string())  # 发送邮件\n",
    "        print(f\"邮件已成功发送至 {to_email}\")\n",
    "\n"
   ],
   "id": "bd62430842a09809",
   "outputs": [],
   "execution_count": 14
  },
  {
   "metadata": {
    "ExecuteTime": {
     "end_time": "2024-09-27T03:11:36.166686Z",
     "start_time": "2024-09-27T03:11:36.159119Z"
    }
   },
   "cell_type": "code",
   "source": "import schedule",
   "id": "f27d8a4813e40485",
   "outputs": [],
   "execution_count": 15
  },
  {
   "metadata": {
    "ExecuteTime": {
     "end_time": "2024-09-27T03:13:33.916274Z",
     "start_time": "2024-09-27T03:13:33.883174Z"
    }
   },
   "cell_type": "code",
   "source": [
    "def send_reminder():\n",
    "    print(\"执行提醒邮件任务...\")\n",
    "    \n",
    "    # 加载和过滤数据\n",
    "    file_path = '/Users/zhaqian/Desktop/DATA SCIENCE/CS老师教课资源/python爬虫/Issue_Management_Database.xlsx'\n",
    "    df1 = pd.read_excel(file_path, sheet_name='issue management test(2)')\n",
    "\n",
    "    # 假设过滤条件已经应用，filtered_df 是过滤后的 DataFrame\n",
    "    current_date = datetime.now()\n",
    "    filtered_df1 = df1[df1['Target Closure Date'] >current_date]\n",
    "    filtered_df1['Days Left'] = (filtered_df1['Target Closure Date'] - current_date).dt.days\n",
    "\n",
    "    # 遍历过滤后的数据并发送邮件\n",
    "    for index, row in filtered_df1.iterrows():\n",
    "        issue_title_cleaned = clean_text(row['Issue Title'])\n",
    "        email_list = row['Issue Owner\\'s email address'].split(',')\n",
    "        \n",
    "        # 邮件主题和内容\n",
    "        subject = f\"Issue Reminder: {issue_title_cleaned}\"\n",
    "        body = f\"Dear {row['Issue Owner']},\\n\\nThis is a reminder that the target date for issue '{issue_title_cleaned}' is approaching.\\nYou have {row['Days Left']} days left.\\n\\nPlease take necessary action.\\n\\nBest regards,\\nYour Team\"\n",
    "\n",
    "        # 发送邮件给每个邮箱\n",
    "        for email in email_list:\n",
    "            send_email(email.strip(), subject, body)\n",
    "\n",
    "    print(\"所有提醒邮件已发送。\")\n",
    "\n",
    "# 定时任务：每周五上午 9:00 运行\n",
    "schedule.every().friday.at(\"09:00\").do(send_reminder)"
   ],
   "id": "f91ed44f4862367d",
   "outputs": [
    {
     "data": {
      "text/plain": [
       "Every 1 week at 09:00:00 do send_reminder() (last run: [never], next run: 2024-09-27 09:00:00)"
      ]
     },
     "execution_count": 16,
     "metadata": {},
     "output_type": "execute_result"
    }
   ],
   "execution_count": 16
  },
  {
   "metadata": {
    "ExecuteTime": {
     "end_time": "2024-09-27T03:13:48.016069Z",
     "start_time": "2024-09-27T03:13:41.725811Z"
    }
   },
   "cell_type": "code",
   "source": "send_reminder()",
   "id": "9f5b6a66d6e64f84",
   "outputs": [
    {
     "name": "stdout",
     "output_type": "stream",
     "text": [
      "执行提醒邮件任务...\n",
      "邮件已成功发送至 qian.zha32@outlook.com\n",
      "邮件已成功发送至 xzhrobert@gmail.com\n",
      "邮件已成功发送至 qian.zha32@outlook.com\n",
      "所有提醒邮件已发送。\n"
     ]
    }
   ],
   "execution_count": 17
  }
 ],
 "metadata": {
  "kernelspec": {
   "display_name": "Python 3",
   "language": "python",
   "name": "python3"
  },
  "language_info": {
   "codemirror_mode": {
    "name": "ipython",
    "version": 2
   },
   "file_extension": ".py",
   "mimetype": "text/x-python",
   "name": "python",
   "nbconvert_exporter": "python",
   "pygments_lexer": "ipython2",
   "version": "2.7.6"
  }
 },
 "nbformat": 4,
 "nbformat_minor": 5
}
